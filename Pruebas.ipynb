{
 "cells": [
  {
   "cell_type": "markdown",
   "id": "38b45fc8",
   "metadata": {},
   "source": [
    "# MODELADO DEL PROBlEMA"
   ]
  },
  {
   "cell_type": "markdown",
   "id": "9ed856d3",
   "metadata": {},
   "source": [
    "**Activos y Rendimientos Anuales Porcentuales:**\n",
    "\n",
    "| Variable | Activo | Rendimiento Anual (%) |\n",
    "|----------|--------|-----------------------|\n",
    "| $x_1$    | MSFT   | $62.49%$                |\n",
    "| $x_2$    | AMZN   | $5.09%$                 |\n",
    "| $x_3$    | ADBE   | $22.30%$                |\n",
    "| $x_4$    | BRK.B  | $39.37%$                |\n",
    "| $x_5$    | META   | $31.12%$                |\n",
    "| $x_6$    | CETES  | $11.66%$                |\n"
   ]
  },
  {
   "cell_type": "markdown",
   "id": "41a1f2ea",
   "metadata": {},
   "source": [
    "### Función objetivo:\n",
    "Maximizar: $0.6249x_1 + 0.0509x_2 + 0.2230x_3 + 0.3937x_4 + 0.3112x_5 + 0.1166x_6$\n",
    "\n",
    "### Restricciones:\n",
    "\n",
    "\n",
    "\n",
    "**Restricción de ajuste al total del Portafolio:**\n",
    "\n",
    "\n",
    "$[x_1 + x_1 + x_1 + x_1 + x_1 + x_1 = 1.0]$\n",
    "\n",
    "\n",
    "\n",
    "**Restricción de porcentaje de cada acción:** \n",
    "\\begin{align*}\n",
    "[x_1 &\\leq 0.15] \\\\\n",
    "[x_2 &\\leq 0.15] \\\\\n",
    "[x_3 &\\leq 0.15] \\\\\n",
    "[x_4 &\\leq 0.15] \\\\\n",
    "[x_5 &\\leq 0.15] \\\\\n",
    "\\end{align*}"
   ]
  },
  {
   "cell_type": "markdown",
   "id": "3120f59f",
   "metadata": {},
   "source": [
    "# SOLUCIÓN DE PROGRAMACIÓN LINEAL"
   ]
  },
  {
   "cell_type": "code",
   "execution_count": 3,
   "id": "0eaf99b6",
   "metadata": {},
   "outputs": [
    {
     "data": {
      "text/plain": [
       "(array([-0.6249, -0.0509, -0.223 , -0.3937, -0.3112, -0.1166]),\n",
       " array([0.15, 0.15, 0.15, 0.15, 0.15, 1.  ]),\n",
       " array([[1, 0, 0, 0, 0, 0],\n",
       "        [0, 1, 0, 0, 0, 0],\n",
       "        [0, 0, 1, 0, 0, 0],\n",
       "        [0, 0, 0, 1, 0, 0],\n",
       "        [0, 0, 0, 0, 1, 0],\n",
       "        [0, 0, 0, 0, 0, 1]]))"
      ]
     },
     "execution_count": 3,
     "metadata": {},
     "output_type": "execute_result"
    }
   ],
   "source": [
    "#Definir Matrices\n",
    "from scipy.optimize import linprog\n",
    "import numpy as np\n",
    "c = np.array([-0.6249,-0.0509,-0.2230,-0.3937, -0.3112, -0.1166])\n",
    "b = np.array([0.15,0.15,0.15,0.15,0.15,1])\n",
    "A = np.array([[1,0,0,0,0,0],\n",
    "             [0,1,0,0,0,0],\n",
    "             [0,0,1,0,0,0],\n",
    "             [0,0,0,1,0,0],\n",
    "             [0,0,0,0,1,0],\n",
    "             [0,0,0,0,0,1]])\n",
    "A_eq = np.array([[1, 1, 1, 1, 1, 1]])  \n",
    "b_eq = np.array([1.0])\n",
    "x_bounds = [(0, None)] *6\n",
    "c,b,A"
   ]
  },
  {
   "cell_type": "code",
   "execution_count": 4,
   "id": "b0e1cac6",
   "metadata": {},
   "outputs": [
    {
     "data": {
      "text/plain": [
       "        message: Optimization terminated successfully. (HiGHS Status 7: Optimal)\n",
       "        success: True\n",
       "         status: 0\n",
       "            fun: -0.27956\n",
       "              x: [ 1.500e-01  0.000e+00  1.500e-01  1.500e-01  1.500e-01\n",
       "                   4.000e-01]\n",
       "            nit: 0\n",
       "          lower:  residual: [ 1.500e-01  0.000e+00  1.500e-01  1.500e-01\n",
       "                              1.500e-01  4.000e-01]\n",
       "                 marginals: [ 0.000e+00  6.570e-02  0.000e+00  0.000e+00\n",
       "                              0.000e+00  0.000e+00]\n",
       "          upper:  residual: [       inf        inf        inf        inf\n",
       "                                    inf        inf]\n",
       "                 marginals: [ 0.000e+00  0.000e+00  0.000e+00  0.000e+00\n",
       "                              0.000e+00  0.000e+00]\n",
       "          eqlin:  residual: [ 0.000e+00]\n",
       "                 marginals: [-1.166e-01]\n",
       "        ineqlin:  residual: [ 0.000e+00  1.500e-01  0.000e+00  0.000e+00\n",
       "                              0.000e+00  6.000e-01]\n",
       "                 marginals: [-5.083e-01 -0.000e+00 -1.064e-01 -2.771e-01\n",
       "                             -1.946e-01 -0.000e+00]\n",
       " mip_node_count: 0\n",
       " mip_dual_bound: 0.0\n",
       "        mip_gap: 0.0"
      ]
     },
     "execution_count": 4,
     "metadata": {},
     "output_type": "execute_result"
    }
   ],
   "source": [
    "#Solucionar usando linprog\n",
    "\n",
    "solucion = linprog(c, A_ub=A, b_ub=b, A_eq=A_eq, b_eq=b_eq, bounds=x_bounds, method='highs')\n",
    "solucion"
   ]
  }
 ],
 "metadata": {
  "kernelspec": {
   "display_name": "Python 3 (ipykernel)",
   "language": "python",
   "name": "python3"
  },
  "language_info": {
   "codemirror_mode": {
    "name": "ipython",
    "version": 3
   },
   "file_extension": ".py",
   "mimetype": "text/x-python",
   "name": "python",
   "nbconvert_exporter": "python",
   "pygments_lexer": "ipython3",
   "version": "3.11.4"
  }
 },
 "nbformat": 4,
 "nbformat_minor": 5
}
